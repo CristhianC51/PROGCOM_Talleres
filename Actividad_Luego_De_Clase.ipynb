{
  "nbformat": 4,
  "nbformat_minor": 0,
  "metadata": {
    "colab": {
      "name": "Actividad_Luego_De_Clase.ipynb",
      "provenance": [],
      "collapsed_sections": [
        "xVVIwXH4CfJN",
        "8QtiNNUUOOCf"
      ]
    },
    "kernelspec": {
      "name": "python3",
      "display_name": "Python 3"
    },
    "language_info": {
      "name": "python"
    }
  },
  "cells": [
    {
      "cell_type": "markdown",
      "source": [
        "#Ejercicios resueltos depues de clase"
      ],
      "metadata": {
        "id": "UHRuGMZsCkDR"
      }
    },
    {
      "cell_type": "markdown",
      "source": [
        "##Ejercicio 1"
      ],
      "metadata": {
        "id": "xVVIwXH4CfJN"
      }
    },
    {
      "cell_type": "code",
      "execution_count": 8,
      "metadata": {
        "colab": {
          "base_uri": "https://localhost:8080/"
        },
        "id": "HthgfAVn_Rxc",
        "outputId": "2054767a-efff-4ee5-defd-65082fd5940d"
      },
      "outputs": [
        {
          "output_type": "stream",
          "name": "stdout",
          "text": [
            "Ingresa un número1\n",
            "El número ingresado no es primo\n"
          ]
        }
      ],
      "source": [
        "numero = int(2)\n",
        "num = \"c\"\n",
        "\n",
        "n = int(input(\"Ingresa un número\"))\n",
        "while(num==\"c\" and numero < n): \n",
        "    if((n%numero)==0):\n",
        "     num = \"s\"\n",
        "    else:\n",
        "     numero = numero + 1\n",
        "if n == 1:\n",
        "  print(\"El número ingresado no es primo\")\n",
        "elif (num == \"c\"):\n",
        "  print(\"El número ingresado es primo\")\n",
        "else:\n",
        "  print(\"El número ingresado no es primo\")"
      ]
    },
    {
      "cell_type": "markdown",
      "source": [
        "##Ejercicio 2"
      ],
      "metadata": {
        "id": "5XxWldRGCvnw"
      }
    },
    {
      "cell_type": "code",
      "source": [
        "a = 1\n",
        "b = 0\n",
        "n = 1\n",
        "\n",
        "while n <= 30:\n",
        "    print(b)\n",
        "    a += b \n",
        "    b = a - b\n",
        "    n += 1"
      ],
      "metadata": {
        "colab": {
          "base_uri": "https://localhost:8080/"
        },
        "id": "BlP1wKxiE3kW",
        "outputId": "e7dab73b-571c-4751-f5c2-8060889290e4"
      },
      "execution_count": 75,
      "outputs": [
        {
          "output_type": "stream",
          "name": "stdout",
          "text": [
            "0\n",
            "1\n",
            "1\n",
            "2\n",
            "3\n",
            "5\n",
            "8\n",
            "13\n",
            "21\n",
            "34\n",
            "55\n",
            "89\n",
            "144\n",
            "233\n",
            "377\n",
            "610\n",
            "987\n",
            "1597\n",
            "2584\n",
            "4181\n",
            "6765\n",
            "10946\n",
            "17711\n",
            "28657\n",
            "46368\n",
            "75025\n",
            "121393\n",
            "196418\n",
            "317811\n",
            "514229\n"
          ]
        }
      ]
    },
    {
      "cell_type": "markdown",
      "source": [
        "##Ejercicio 3"
      ],
      "metadata": {
        "id": "8QtiNNUUOOCf"
      }
    },
    {
      "cell_type": "code",
      "source": [
        "def factorial(numero):\n",
        "    numero = int(input(\"ingrese un numero\"))\n",
        "    if numero < 0: \n",
        "        print(\"Los factoriales negativos no existen!\")\n",
        "    elif numero == 0: \n",
        "        return 1\n",
        "    else: \n",
        "        fact = 1\n",
        "        while(numero > 1): \n",
        "            fact *= numero\n",
        "            numero -= 1\n",
        "        return fact \n",
        "print(f\"El faltorial de {numero} es {factorial(numero)}\") "
      ],
      "metadata": {
        "colab": {
          "base_uri": "https://localhost:8080/"
        },
        "id": "Kww_NV28QFdw",
        "outputId": "314d4c7e-be6f-4ae5-f8f3-d74420adacbd"
      },
      "execution_count": 28,
      "outputs": [
        {
          "output_type": "stream",
          "name": "stdout",
          "text": [
            "ingrese un numero2\n",
            "El faltorial de 2 es 2\n"
          ]
        }
      ]
    },
    {
      "cell_type": "markdown",
      "source": [
        "##Ejercicio 7"
      ],
      "metadata": {
        "id": "3APukjcnSFF0"
      }
    },
    {
      "cell_type": "code",
      "source": [
        "num=100\n",
        "b=0\n",
        "a=1\n",
        "while a <= 11:\n",
        "  print(b)\n",
        "  b = b + num\n",
        "  num = num - 10\n",
        "  a+=1"
      ],
      "metadata": {
        "colab": {
          "base_uri": "https://localhost:8080/"
        },
        "id": "yT6AbL82nJV0",
        "outputId": "e2678868-a734-4fec-9ab6-3f923774773a"
      },
      "execution_count": 109,
      "outputs": [
        {
          "output_type": "stream",
          "name": "stdout",
          "text": [
            "0\n",
            "100\n",
            "190\n",
            "270\n",
            "340\n",
            "400\n",
            "450\n",
            "490\n",
            "520\n",
            "540\n",
            "550\n"
          ]
        }
      ]
    }
  ]
}