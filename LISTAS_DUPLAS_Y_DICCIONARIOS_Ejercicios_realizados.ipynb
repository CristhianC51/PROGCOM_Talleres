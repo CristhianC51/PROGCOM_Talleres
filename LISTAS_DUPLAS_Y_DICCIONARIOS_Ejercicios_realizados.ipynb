{
  "nbformat": 4,
  "nbformat_minor": 0,
  "metadata": {
    "colab": {
      "provenance": [],
      "collapsed_sections": []
    },
    "kernelspec": {
      "name": "python3",
      "display_name": "Python 3"
    },
    "language_info": {
      "name": "python"
    }
  },
  "cells": [
    {
      "cell_type": "markdown",
      "source": [
        "#SECUENCIA DE DATOS\n"
      ],
      "metadata": {
        "id": "SHcbrJhhNGOk"
      }
    },
    {
      "cell_type": "markdown",
      "source": [
        "##LISTAS\n",
        "También conocidas como vectores o arrays.\n",
        "Es una variable que, en lugar de contener un valor, contiene una secuencia ordenada de estos, a los que se puede acceder por su posición o por su índice.\n",
        "Se declaran indicando sus elementos, separados por comas, entre corchetes []"
      ],
      "metadata": {
        "id": "325LVBzsM0x7"
      }
    },
    {
      "cell_type": "code",
      "execution_count": null,
      "metadata": {
        "colab": {
          "base_uri": "https://localhost:8080/"
        },
        "id": "23GjaB68MkIG",
        "outputId": "a5ac00c0-f797-40e2-f719-1d12c14a2b83"
      },
      "outputs": [
        {
          "output_type": "execute_result",
          "data": {
            "text/plain": [
              "['primero', 'segundo', 'tercero', 'cuarto']"
            ]
          },
          "metadata": {},
          "execution_count": 1
        }
      ],
      "source": [
        "lista=[\"primero\",\"segundo\", \"tercero\", \"cuarto\"]\n",
        "lista"
      ]
    },
    {
      "cell_type": "markdown",
      "source": [
        "###Accediendo a los elementos de la lista"
      ],
      "metadata": {
        "id": "yPn3XFg4PWpt"
      }
    },
    {
      "cell_type": "code",
      "source": [
        "#Accediendo a la lista por posición\n",
        "lista[0]"
      ],
      "metadata": {
        "colab": {
          "base_uri": "https://localhost:8080/",
          "height": 36
        },
        "id": "-63XOgdXOzdR",
        "outputId": "7f06a027-7a82-4010-ecd1-baba488bea01"
      },
      "execution_count": null,
      "outputs": [
        {
          "output_type": "execute_result",
          "data": {
            "text/plain": [
              "'primero'"
            ],
            "application/vnd.google.colaboratory.intrinsic+json": {
              "type": "string"
            }
          },
          "metadata": {},
          "execution_count": 2
        }
      ]
    },
    {
      "cell_type": "code",
      "source": [
        "#Accediendo a todos los elementos de la lista empleando el slicing\n",
        "lista[:]"
      ],
      "metadata": {
        "colab": {
          "base_uri": "https://localhost:8080/"
        },
        "id": "cadWYF2xSW8L",
        "outputId": "1f0eb661-290a-467c-e251-f111393db281"
      },
      "execution_count": null,
      "outputs": [
        {
          "output_type": "execute_result",
          "data": {
            "text/plain": [
              "['primero', 'segundo', 'tercero', 'cuarto']"
            ]
          },
          "metadata": {},
          "execution_count": 4
        }
      ]
    },
    {
      "cell_type": "code",
      "source": [
        "#Accediendo a los dos primeros elementos de la lista\n",
        "lista[0:2]"
      ],
      "metadata": {
        "colab": {
          "base_uri": "https://localhost:8080/"
        },
        "id": "XsDQpQKISYiL",
        "outputId": "1a144327-f381-43b2-9303-5ab82cd8aa22"
      },
      "execution_count": null,
      "outputs": [
        {
          "output_type": "execute_result",
          "data": {
            "text/plain": [
              "['primero', 'segundo']"
            ]
          },
          "metadata": {},
          "execution_count": 5
        }
      ]
    },
    {
      "cell_type": "code",
      "source": [
        "#Existe alguna otra manera de imprimir los dos primeros elementos de la lista? Coloque la línea de código que hace esto.\n",
        "\n",
        "lista=[\"primero\",\"segundo\", \"tercero\", \"cuarto\"]\n",
        "print(lista[0:2])\n"
      ],
      "metadata": {
        "id": "miawsux8S7BD",
        "colab": {
          "base_uri": "https://localhost:8080/"
        },
        "outputId": "3909ccd7-8cfc-465a-e5b7-f67be8f2703d"
      },
      "execution_count": 57,
      "outputs": [
        {
          "output_type": "stream",
          "name": "stdout",
          "text": [
            "['primero', 'segundo']\n"
          ]
        }
      ]
    },
    {
      "cell_type": "code",
      "source": [
        "#Accediendo a los dos últimos elementos de la lista\n",
        "lista[2:4]"
      ],
      "metadata": {
        "colab": {
          "base_uri": "https://localhost:8080/"
        },
        "id": "RNcXanPzTB7u",
        "outputId": "bdc54a73-bf98-4ddf-aec7-65e04e9e9a4b"
      },
      "execution_count": null,
      "outputs": [
        {
          "output_type": "execute_result",
          "data": {
            "text/plain": [
              "['tercero', 'cuarto']"
            ]
          },
          "metadata": {},
          "execution_count": 9
        }
      ]
    },
    {
      "cell_type": "code",
      "source": [
        "#Qué pasará cuando se usa un índice negativo? Ejemplo: lista[-4], lista[-3]\n",
        "\n",
        "#Respuesta\n",
        "##Imprimira la posicion \"4\" de derecha a izquierda, si haces lista[-4] te imprimira \"primero\"\n"
      ],
      "metadata": {
        "id": "_0cx4i7CVF_6"
      },
      "execution_count": 62,
      "outputs": []
    },
    {
      "cell_type": "code",
      "source": [
        "#Existe otra forma para acceder a los dos últimos elementos de la lista?. Coloque la línea de código que hace esto.\n",
        "lista=[\"primero\",\"segundo\", \"tercero\", \"cuarto\"]\n",
        "print(lista[-2])\n",
        "print(lista[-1])\n"
      ],
      "metadata": {
        "id": "Eg2ZIr5DTnFJ",
        "colab": {
          "base_uri": "https://localhost:8080/"
        },
        "outputId": "8ecab83b-7daf-4258-f075-6a191dabbf12"
      },
      "execution_count": 69,
      "outputs": [
        {
          "output_type": "stream",
          "name": "stdout",
          "text": [
            "tercero\n",
            "cuarto\n"
          ]
        }
      ]
    },
    {
      "cell_type": "code",
      "source": [
        "#Cómo podría saberse la posición de la lista que ocupa un elemento? \n",
        "#Escriba el código que permita ingresar un elemento de la lista, e imprima la posición del elemento de la lista\n",
        "\n",
        "lista=[\"primero\",\"segundo\", \"tercero\", \"cuarto\"]\n",
        "a = \"segundo\"\n",
        "ind = lista.index(a)\n",
        "ind\n",
        "\n",
        "#Respuesta:\n",
        "##Se puede hacer con la funcion \"index\"\n",
        "\n"
      ],
      "metadata": {
        "id": "AFYUJpJCQG9p",
        "colab": {
          "base_uri": "https://localhost:8080/"
        },
        "outputId": "37f98027-1757-4978-a5e7-1787065c8dee"
      },
      "execution_count": 70,
      "outputs": [
        {
          "output_type": "execute_result",
          "data": {
            "text/plain": [
              "1"
            ]
          },
          "metadata": {},
          "execution_count": 70
        }
      ]
    },
    {
      "cell_type": "markdown",
      "source": [
        "###Operaciones con las listas"
      ],
      "metadata": {
        "id": "OPiv0fe4R8__"
      }
    },
    {
      "cell_type": "code",
      "source": [
        "#Crear una lista vacía\n",
        "ejemplo=[]"
      ],
      "metadata": {
        "id": "sgr461D-SAqe"
      },
      "execution_count": 1,
      "outputs": []
    },
    {
      "cell_type": "code",
      "source": [
        "#Cómo se podría crear una matriz? Ingrese el código que permita generar una matriz 3x2, siendo la primera fila \"Nombre\", \"Peso\", \"Altura\"\n",
        "#y diligencie la segunda fila con números\n",
        "#Llame a esa matriz calculo_IMC\n",
        "#Debe imprimir \n",
        "#Nombre  Peso[kg] Altura[m]\n",
        "#\"Sofía\"    57      1.65 \n",
        "\n",
        "#Respuesta\n",
        "nombre=str(input(\"Hola!, ingresa tu nombre\"))\n",
        "peso=int(input(\"Ingresa tu peso (En kilogramos)\"))\n",
        "estatura=float(input(\"Ingresa tu estatura (En metros)\"))\n",
        "calculo_IMC=[['Nombre', 'Peso[KG]', 'Altura[M]'],\n",
        "             [nombre, peso, estatura]]\n",
        "a=len(calculo_IMC)\n",
        "for i in range(a):\n",
        "  print(calculo_IMC[i])\n",
        "\n"
      ],
      "metadata": {
        "id": "NnNEsFRbaUul",
        "colab": {
          "base_uri": "https://localhost:8080/"
        },
        "outputId": "d70fc1c0-1554-418c-889f-f8a574976f0d"
      },
      "execution_count": 22,
      "outputs": [
        {
          "output_type": "stream",
          "name": "stdout",
          "text": [
            "Hola!, ingresa tu nombreSofia\n",
            "Ingresa tu peso (En kilogramos)57\n",
            "Ingresa tu estatura (En metros)1.65\n",
            "['Nombre', 'Peso[KG]', 'Altura[M]']\n",
            "['Sofia', 57, 1.65]\n"
          ]
        }
      ]
    },
    {
      "cell_type": "code",
      "source": [
        "#Genere una cuarta columna para la matriz IMC, que tenga como nombre IMC y calcule el índice de masa corporal. Esto es:\n",
        "#Nombre  Peso[kg] Altura[m]  IMC\n",
        "#\"Sofía\"    57      1.65     (agrege aquí el resultado del cálculo)\n",
        "\n",
        "#Respuesta\n",
        "nombre=str(input(\"Hola!, ingresa tu nombre\"))\n",
        "peso=int(input(\"Ingresa tu peso (En kilogramos)\"))\n",
        "estatura=float(input(\"Ingresa tu estatura (En metros)\"))\n",
        "operacion=(estatura*estatura)\n",
        "IMC=peso/operacion\n",
        "\n",
        "calculo_IMC=[['Nombre', 'Peso[KG]', 'Altura[M]', 'IMC'],\n",
        "             [nombre, peso, estatura, IMC]]\n",
        "a=len(calculo_IMC)\n",
        "for i in range(a):\n",
        "  print(calculo_IMC[i])"
      ],
      "metadata": {
        "id": "UZ_ueaXJdJsT",
        "colab": {
          "base_uri": "https://localhost:8080/"
        },
        "outputId": "88c82859-c476-4be2-ce53-e545072626b0"
      },
      "execution_count": 34,
      "outputs": [
        {
          "output_type": "stream",
          "name": "stdout",
          "text": [
            "Hola!, ingresa tu nombreSofia\n",
            "Ingresa tu peso (En kilogramos)57\n",
            "Ingresa tu estatura (En metros)1.65\n",
            "['Nombre', 'Peso[KG]', 'Altura[M]', 'IMC']\n",
            "['Sofia', 57, 1.65, 20.936639118457304]\n"
          ]
        }
      ]
    },
    {
      "cell_type": "code",
      "source": [
        "#Genere una quinta columna en la matriz calculo_IMC que emita una descripción obtenida del IMC. Esto es:\n",
        "#Nombre  Peso[kg] Altura[m]  IMC        Descripción\n",
        "#\"Sofía\"    57      1.65     (calculo)  (Dependiendo del IMC debe registrar peso normal, sobrepeso, obesidad tipo I, obesidad tipo II... etc.\n",
        "\n",
        "nombre=str(input(\"Hola!, ingresa tu nombre\"))\n",
        "peso=int(input(\"Ingresa tu peso (En kilogramos)\"))\n",
        "estatura=float(input(\"Ingresa tu estatura (En metros)\"))\n",
        "operacion=(estatura*estatura)\n",
        "IMC=(peso/operacion)\n",
        "NDP2='Estas normal :)'\n",
        "if(IMC<18.5):\n",
        "  NDP1=\"Tienes bajo peso\"\n",
        "elif(IMC>=18.5 and IMC>=24.9):\n",
        "  NDP2='Estas normal :)'\n",
        "elif(IMC>=25.0 and IMC>=29.9):\n",
        "  NDP3=\"Tienes sobre peso\"\n",
        "elif(IMC>=30.0):\n",
        "  NDP4=\"Tienes obesidad\"\n",
        "\n",
        "calculo_IMC=[['Nombre', 'Peso[KG]', 'Altura[M]', 'IMC', 'Descripción'],\n",
        "             [nombre, peso, estatura, IMC, NDP2]]\n",
        "a=len(calculo_IMC)\n",
        "for i in range(a):\n",
        "  print(calculo_IMC[i])\n",
        "\n"
      ],
      "metadata": {
        "id": "cgQqg0YJffSH",
        "colab": {
          "base_uri": "https://localhost:8080/"
        },
        "outputId": "cccb098d-2baf-443b-d919-0991e7cc6bac"
      },
      "execution_count": 47,
      "outputs": [
        {
          "output_type": "stream",
          "name": "stdout",
          "text": [
            "Hola!, ingresa tu nombreSofia\n",
            "Ingresa tu peso (En kilogramos)57\n",
            "Ingresa tu estatura (En metros)1.65\n",
            "['Nombre', 'Peso[KG]', 'Altura[M]', 'IMC', 'Descripción']\n",
            "['Sofia', 57, 1.65, 20.936639118457304, 'Estas normal :)']\n"
          ]
        }
      ]
    },
    {
      "cell_type": "code",
      "source": [
        "#Conocer el tamaño del vector\n",
        "len(ejemplo)"
      ],
      "metadata": {
        "colab": {
          "base_uri": "https://localhost:8080/"
        },
        "id": "KZ5QnAzbaH_v",
        "outputId": "e6d57ab7-700e-4ffc-f755-3ef715b4922e"
      },
      "execution_count": null,
      "outputs": [
        {
          "output_type": "execute_result",
          "data": {
            "text/plain": [
              "4"
            ]
          },
          "metadata": {},
          "execution_count": 28
        }
      ]
    },
    {
      "cell_type": "code",
      "source": [
        "#Llenar una lista vacía\n",
        "ejemplo.append(\"Hola\")"
      ],
      "metadata": {
        "id": "JsgmYIkuSVFj"
      },
      "execution_count": 48,
      "outputs": []
    },
    {
      "cell_type": "code",
      "source": [
        "#Una lista puede tener diferente tipo de datos!!\n",
        "ejemplo=[\"banana\",\"sandía\", 4, 5, False]\n",
        "ejemplo\n",
        "#Qué pasó con el elemento \"Hola\"?\n",
        "#Respuesta:\n",
        "##Se redefine la lista con los nuevos valores asignados"
      ],
      "metadata": {
        "colab": {
          "base_uri": "https://localhost:8080/"
        },
        "id": "q6LTGURtY_RM",
        "outputId": "71cfe5be-34de-4225-f216-370fc9226218"
      },
      "execution_count": 50,
      "outputs": [
        {
          "output_type": "execute_result",
          "data": {
            "text/plain": [
              "['banana', 'sandía', 4, 5, False]"
            ]
          },
          "metadata": {},
          "execution_count": 50
        }
      ]
    },
    {
      "cell_type": "code",
      "source": [
        "#Eliminar un elemento de la lista\n",
        "ejemplo.remove(4)\n",
        "ejemplo"
      ],
      "metadata": {
        "colab": {
          "base_uri": "https://localhost:8080/"
        },
        "id": "p_o0X4fKZw0k",
        "outputId": "845f0f99-44ac-49f9-df9d-b62a4bcb49de"
      },
      "execution_count": null,
      "outputs": [
        {
          "output_type": "execute_result",
          "data": {
            "text/plain": [
              "['banana', 'sandía', 5, False]"
            ]
          },
          "metadata": {},
          "execution_count": 35
        }
      ]
    },
    {
      "cell_type": "code",
      "source": [
        "#Podría explicar el error generado?\n",
        "ejemplo.remove(4)\n",
        "\n",
        "#Respuesta:\n",
        "##Intenta remover un puesto dentro de la lista que no existe, es decir, trata de remover el \"False\", y\n",
        "##este no es una constante o variable"
      ],
      "metadata": {
        "colab": {
          "base_uri": "https://localhost:8080/",
          "height": 189
        },
        "id": "ODz7MJvbbh8e",
        "outputId": "f1f850da-cbfa-4c5e-d9fc-8ea1680afed0"
      },
      "execution_count": null,
      "outputs": [
        {
          "output_type": "error",
          "ename": "ValueError",
          "evalue": "ignored",
          "traceback": [
            "\u001b[0;31m---------------------------------------------------------------------------\u001b[0m",
            "\u001b[0;31mValueError\u001b[0m                                Traceback (most recent call last)",
            "\u001b[0;32m<ipython-input-36-cc5e3be70b57>\u001b[0m in \u001b[0;36m<module>\u001b[0;34m\u001b[0m\n\u001b[1;32m      1\u001b[0m \u001b[0;31m#Podría explicar el error generado?\u001b[0m\u001b[0;34m\u001b[0m\u001b[0;34m\u001b[0m\u001b[0;34m\u001b[0m\u001b[0m\n\u001b[0;32m----> 2\u001b[0;31m \u001b[0mejemplo\u001b[0m\u001b[0;34m.\u001b[0m\u001b[0mremove\u001b[0m\u001b[0;34m(\u001b[0m\u001b[0;36m4\u001b[0m\u001b[0;34m)\u001b[0m\u001b[0;34m\u001b[0m\u001b[0;34m\u001b[0m\u001b[0m\n\u001b[0m",
            "\u001b[0;31mValueError\u001b[0m: list.remove(x): x not in list"
          ]
        }
      ]
    },
    {
      "cell_type": "code",
      "source": [
        "#Podría explicar el resultado de este método? \n",
        "del ejemplo[2]\n",
        "ejemplo\n",
        "\n",
        "#Respuesta:\n",
        "##Pide de la lista eliminar las 2 ultimas posiciones de ella, luego imprime la nueva lista"
      ],
      "metadata": {
        "colab": {
          "base_uri": "https://localhost:8080/"
        },
        "id": "lhRUkQOEcWHu",
        "outputId": "4d356fcb-45db-4c7a-db43-afae70cd8bf6"
      },
      "execution_count": 60,
      "outputs": [
        {
          "output_type": "execute_result",
          "data": {
            "text/plain": [
              "['banana', 'sandía']"
            ]
          },
          "metadata": {},
          "execution_count": 60
        }
      ]
    },
    {
      "cell_type": "markdown",
      "source": [
        "### EJERCICIO PARA ELIMINAR UN QUEST OBLIGATORIO ☝\n",
        "\n",
        "![Texto alternativo](https://cdn.memegenerator.es/imagenes/memes/full/28/50/28507442.jpg)\n",
        "\n",
        "Realiza el ejercicio propuesto de forma correcta antes de que acabe el tiempo, y hazte acreedor@ de eliminar un quest obligatorio ✨"
      ],
      "metadata": {
        "id": "hmS_3bTvgCph"
      }
    },
    {
      "cell_type": "code",
      "source": [
        "# Revise la página https://www.researchgate.net/publication/273298847_Piedra_Papel_Tijera_y_sus_generalizaciones\n",
        "#Programe Piedra, papel, tijera, spock, lagarto, Papa y heavy usando arreglos.}\n",
        "\n",
        "lista = ['piedra', 'papel', 'tijera', 'spock', 'lagarto', 'papa', 'heavy']\n",
        "print(lista)\n",
        "player1=input(\"Jugador 1, dime que escoges?\")\n",
        "player2=input(\"Jugador 2, dime que escoges?\")\n",
        "\n",
        "piedra=1; lagarto=2; papa=3; tijera=4; papel=5; heavy=6; spock=7\n",
        "\n",
        "lista2 = [piedra>tijera, piedra>heavy, lagarto>spock, lagarto>papel, papa>papel, papa>piedra, tijera>lagarto, tijera>heavy, papel>piedra, papel>spock, heavy>papa, heavy>lagarto, spock>tijera, spock>papa]\n",
        "ind = lista.index(player1)\n",
        "ind2 = lista.index(player2)\n",
        "lista2[ind]\n",
        "lista2[ind2]\n",
        "if (ind>ind2):\n",
        "  print(\"A ganado el jugador 1\")\n",
        "elif(ind<ind2):\n",
        "  print(\"A ganado el jugador 2\")\n",
        "elif(ind=ind2):\n",
        "  print(\"Empate!\")"
      ],
      "metadata": {
        "id": "p0SGwGpNgBaz",
        "colab": {
          "base_uri": "https://localhost:8080/"
        },
        "outputId": "67f15e13-c863-46f3-f362-d729517f1e2f"
      },
      "execution_count": 74,
      "outputs": [
        {
          "name": "stdout",
          "output_type": "stream",
          "text": [
            "['piedra', 'papel', 'tijera', 'spock', 'lagarto', 'papa', 'heavy']\n",
            "Jugador 1, dime que escoges?spock\n",
            "Jugador 2, dime que escoges?lagarto\n"
          ]
        },
        {
          "output_type": "execute_result",
          "data": {
            "text/plain": [
              "4"
            ]
          },
          "metadata": {},
          "execution_count": 74
        }
      ]
    }
  ]
}