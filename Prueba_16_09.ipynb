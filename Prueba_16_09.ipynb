{
  "nbformat": 4,
  "nbformat_minor": 0,
  "metadata": {
    "colab": {
      "provenance": []
    },
    "kernelspec": {
      "name": "python3",
      "display_name": "Python 3"
    },
    "language_info": {
      "name": "python"
    }
  },
  "cells": [
    {
      "cell_type": "code",
      "execution_count": 6,
      "metadata": {
        "colab": {
          "base_uri": "https://localhost:8080/",
          "height": 235
        },
        "id": "Px4c82Z3M_oW",
        "outputId": "b0462197-6e70-45e6-ce82-61bd8f4fb29d"
      },
      "outputs": [
        {
          "output_type": "stream",
          "name": "stdout",
          "text": [
            "Digita el numero de estudiantes del grupo 11\n",
            "[]\n"
          ]
        },
        {
          "output_type": "error",
          "ename": "KeyError",
          "evalue": "ignored",
          "traceback": [
            "\u001b[0;31m---------------------------------------------------------------------------\u001b[0m",
            "\u001b[0;31mKeyError\u001b[0m                                  Traceback (most recent call last)",
            "\u001b[0;32m<ipython-input-6-444c5e7a15ae>\u001b[0m in \u001b[0;36m<module>\u001b[0;34m\u001b[0m\n\u001b[1;32m      6\u001b[0m \u001b[0mEstudianten\u001b[0m\u001b[0;34m=\u001b[0m\u001b[0;36m0\u001b[0m\u001b[0;34m\u001b[0m\u001b[0;34m\u001b[0m\u001b[0m\n\u001b[1;32m      7\u001b[0m \u001b[0;32mwhile\u001b[0m \u001b[0mcontador\u001b[0m\u001b[0;34m==\u001b[0m\u001b[0;36m1\u001b[0m\u001b[0;34m:\u001b[0m\u001b[0;34m\u001b[0m\u001b[0;34m\u001b[0m\u001b[0m\n\u001b[0;32m----> 8\u001b[0;31m   \u001b[0mNotas\u001b[0m\u001b[0;34m=\u001b[0m\u001b[0mint\u001b[0m\u001b[0;34m(\u001b[0m\u001b[0minput\u001b[0m\u001b[0;34m(\u001b[0m\u001b[0;34m\"Digite la primera nota del estudiante \"\u001b[0m\u001b[0;34m,\u001b[0m \u001b[0mNumes\u001b[0m\u001b[0;34m[\u001b[0m\u001b[0;34m'Estudiantes'\u001b[0m\u001b[0;34m[\u001b[0m\u001b[0ma\u001b[0m\u001b[0;34m]\u001b[0m\u001b[0;34m]\u001b[0m\u001b[0;34m)\u001b[0m\u001b[0;34m)\u001b[0m\u001b[0;34m\u001b[0m\u001b[0;34m\u001b[0m\u001b[0m\n\u001b[0m",
            "\u001b[0;31mKeyError\u001b[0m: 'E'"
          ]
        }
      ],
      "source": [
        "\n",
        "NumEstudiantes1 = input(\"Digita el numero de estudiantes del grupo 1\")\n",
        "NumEs={'Estudiantes':[0,NumEstudiantes1], 'Notas':[0,NumEstudiantes1]}\n",
        "print(NumEs['Estudiantes'])\n",
        "\n",
        "a=0\n",
        "contador=1\n",
        "EstudianteN=0\n",
        "while contador==1:\n",
        "  Notas=int(input(\"Digite la primera nota del estudiante \", NumEs['Estudiantes'[a]]))\n",
        "\n",
        "NumEstudiantes2 = input(\"Digita el numero de estudiantes del grupo 2\")\n",
        "NumEs2={'Estudiantes':[0,NumEstudiantes2], 'Notas':[0,NumEstudiantes2]}\n",
        "print(NumEs2['Estudiantes'])\n",
        "\n",
        "NumEstudiantes3 = input(\"Digita el numero de estudiantes del grupo 3\")\n",
        "NumEs3={'Estudiantes':[0,NumEstudiantes3], 'Notas':[0,NumEstudiantes3]}\n",
        "print(NumEs3['Estudiantes'])\n",
        "\n",
        "tipoClase = input(\"\")"
      ]
    }
  ]
}