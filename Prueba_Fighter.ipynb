{
  "nbformat": 4,
  "nbformat_minor": 0,
  "metadata": {
    "colab": {
      "provenance": [],
      "collapsed_sections": [
        "jP0B7umkUtNE",
        "77MNR4KrRr1q",
        "Znx_G346UIn3",
        "Pnqo-NtvTkwv",
        "x69DheKHOr0P",
        "KQ3s2dzqPao2",
        "ZIJrjb6OVa2C",
        "eVZotPeRV_yB",
        "cLZESXtdSo-x",
        "EJ3S8A7LTJow"
      ]
    },
    "kernelspec": {
      "name": "python3",
      "display_name": "Python 3"
    },
    "language_info": {
      "name": "python"
    }
  },
  "cells": [
    {
      "cell_type": "markdown",
      "source": [
        "#Prueba_Fighter"
      ],
      "metadata": {
        "id": "e5Bb7vchOtpX"
      }
    },
    {
      "cell_type": "markdown",
      "source": [
        "##Ejercicio 1"
      ],
      "metadata": {
        "id": "jP0B7umkUtNE"
      }
    },
    {
      "cell_type": "code",
      "source": [
        "print('Escribe un numero entero: ')\n",
        "nNumero1=int(input())\n",
        "print('Escriba un segundo numero:')\n",
        "nNumero2=int(input())\n",
        "Resul=(f'La division es exacta. El resultado es : cociente={nNumero1/nNumero2}') if (nNumero1%nNumero2==0)  else (f'La division no es exacta. El resultado es : cociente={nNumero1/nNumero2} y el resto= {nNumero1%nNumero2}')\n",
        "print(Resul)"
      ],
      "metadata": {
        "colab": {
          "base_uri": "https://localhost:8080/"
        },
        "id": "Cxxv1mI5Uu0M",
        "outputId": "dc93c2f7-4b96-46f6-fbeb-058a146ca4eb"
      },
      "execution_count": 28,
      "outputs": [
        {
          "output_type": "stream",
          "name": "stdout",
          "text": [
            "Escribe un numero entero: \n",
            "5\n",
            "Escriba un segundo numero:\n",
            "2\n",
            "La division no es exacta. El resultado es : cociente=2.5 y el resto= 1\n"
          ]
        }
      ]
    },
    {
      "cell_type": "markdown",
      "source": [
        "##Ejercicio 2"
      ],
      "metadata": {
        "id": "77MNR4KrRr1q"
      }
    },
    {
      "cell_type": "code",
      "source": [
        "print(\"Dame 2 numeros y verificare si uno es múltiplo de otro\")\n",
        "n1=int(input(\"Ingrese el primer número: \"))\n",
        "n2=int(input(\"Ingrese el segundo número: \"))\n",
        "R=\"Es múltiplo\" if (n1%n2==0) else \"No es múltiplo\"\n",
        "print(R)"
      ],
      "metadata": {
        "colab": {
          "base_uri": "https://localhost:8080/"
        },
        "id": "B42u5r6lRtSC",
        "outputId": "0ed14cf0-4db2-4e99-e91e-9ff28e483695"
      },
      "execution_count": 15,
      "outputs": [
        {
          "output_type": "stream",
          "name": "stdout",
          "text": [
            "Dame 2 numeros y verificare si uno es múltiplo de otro\n",
            "Ingrese el primer número: 2\n",
            "Ingrese el segundo número: 3\n",
            "No es múltiplo\n"
          ]
        }
      ]
    },
    {
      "cell_type": "markdown",
      "source": [
        "##Ejercicio 3"
      ],
      "metadata": {
        "id": "Znx_G346UIn3"
      }
    },
    {
      "cell_type": "code",
      "source": [
        "h1 = int(input(\"Digita la edad del primer hermano: \"))\n",
        "h2 = int(input(\"Digita la edad del segundo hermano: \"))\n",
        "h3 = int(input(\"Digita la edad del tercer hermano: \"))\n",
        "ord = \"el primer hermano es el mayor\"  if h1>h2 and h1>h3 else  \"el segundo hermano es el mayor\", \"el tercer hermano es el mayor\" if h3>h1 and h3>h2 else  \"El primer y segundo hermano son gemelos\" if h1==h2 else \"El segundo y tercer hermano son gemelos\" if h2==h3 else \"El primero y tercer hemano son gemelos \" if h1==h3 else \"son trillizos\" if h1==h2==h3 else \"no son trillizos\"\n",
        "print(ord)"
      ],
      "metadata": {
        "colab": {
          "base_uri": "https://localhost:8080/"
        },
        "id": "I56qfGWGUKBv",
        "outputId": "faec8497-61c9-4d9c-9e5d-bae3a21489a3"
      },
      "execution_count": 26,
      "outputs": [
        {
          "output_type": "stream",
          "name": "stdout",
          "text": [
            "Digita la edad del primer hermano: 15\n",
            "Digita la edad del segundo hermano: 16\n",
            "Digita la edad del tercer hermano: 17\n",
            "('el segundo hermano es el mayor', 'el tercer hermano es el mayor')\n"
          ]
        }
      ]
    },
    {
      "cell_type": "markdown",
      "source": [
        "##Ejercicio 6"
      ],
      "metadata": {
        "id": "Pnqo-NtvTkwv"
      }
    },
    {
      "cell_type": "code",
      "source": [
        "nt1=float(input(\"ingrese su primera nota \"))\n",
        "nt2=float(input(\"ingrese su segunda nota \"))\n",
        "nt3=float(input(\"ingrese su tercera nota \"))\n",
        "nt4=float(input(\"ingrese su cuarta nota \"))\n",
        "snt=nt1+nt2+nt3+nt4\n",
        "ntf=snt/4 \n",
        "nf=\"Queda eximido del ultimo examen\" if ntf>=4.5 else \"debe presentar el examen\" if ntf>=3.5 else \"debe presentar el examen y entregar un trabajo\" if ntf>=3.0 else\"debe presentar habilitación\" if ntf>=2.0 else\"perdio la materia irremediablemente\"\n",
        "print(nf, \"su nota final es\",ntf)"
      ],
      "metadata": {
        "colab": {
          "base_uri": "https://localhost:8080/"
        },
        "id": "Yju7CVUgTmpf",
        "outputId": "b1b8c2ba-db49-4077-8e88-17144e28e028"
      },
      "execution_count": 25,
      "outputs": [
        {
          "output_type": "stream",
          "name": "stdout",
          "text": [
            "ingrese su primera nota 4.5\n",
            "ingrese su segunda nota 4.5\n",
            "ingrese su tercera nota 4.5\n",
            "ingrese su cuarta nota 4.5\n",
            "debe presentar el examen su nota final es 4.5\n"
          ]
        }
      ]
    },
    {
      "cell_type": "markdown",
      "source": [
        "##Ejercicio 8"
      ],
      "metadata": {
        "id": "x69DheKHOr0P"
      }
    },
    {
      "cell_type": "code",
      "execution_count": 12,
      "metadata": {
        "colab": {
          "base_uri": "https://localhost:8080/"
        },
        "id": "sSphhurfy2G6",
        "outputId": "bce52767-b20c-430e-e509-bd67c6410e6b"
      },
      "outputs": [
        {
          "output_type": "stream",
          "name": "stdout",
          "text": [
            "Ingresa un numero2004\n",
            "El numero es bisiesto\n"
          ]
        }
      ],
      "source": [
        "numero = int(input(\"Ingresa un numero\"))\n",
        "print(\"El numero es bisiesto\") if (numero%4==0 and numero%100!=0) else print(\"El numero no es bisiesto\")"
      ]
    },
    {
      "cell_type": "markdown",
      "source": [
        "##Ejercicio 12"
      ],
      "metadata": {
        "id": "KQ3s2dzqPao2"
      }
    },
    {
      "cell_type": "code",
      "source": [
        "import random\n",
        "opEl = str(input(\"Ingresa la operacion que deseas probar. Ejemplo: sumar, restar, multiplicar, dividir\"))\n",
        "random1 = random.randint(1, 99)\n",
        "random2 = random.randint(1, 99)\n",
        "if (opEl==\"sumar\"):\n",
        "  print(\"Deberas sumar el numero \", random1, \" + \", random2)\n",
        "  suma = int(input())\n",
        "  operacion=random1+random2\n",
        "  print(\"El resultado es \", operacion)\n",
        "  if(suma==operacion):\n",
        "    print (\"Haz acertado!\")\n",
        "  else:\n",
        "    print(\"No acertaste :C\")\n",
        "elif (opEl==\"restar\"):\n",
        "  print(\"Deberas restar el numero \", random1, \" - \", random2)\n",
        "  resta = int(input())\n",
        "  operacion=random1-random2\n",
        "  print(\"El resultado es \", operacion)\n",
        "  if(resta==operacion):\n",
        "    print (\"Haz acertado!\")\n",
        "  else:\n",
        "    print(\"No acertaste :C\")\n",
        "elif (opEl==\"multiplicar\"):\n",
        "  print(\"Deberas restar el numero \", random1, \" * \", random2)\n",
        "  multi = int(input())\n",
        "  operacion=random1*random2\n",
        "  print(\"El resultado es \", operacion)\n",
        "  if(multi==operacion):\n",
        "    print (\"Haz acertado!\")\n",
        "  else:\n",
        "    print(\"No acertaste :C\")\n",
        "elif (opEl==\"dividir\"):\n",
        "  print(\"Deberas restar el numero \", random1, \" / \", random2)\n",
        "  dividir = int(input())\n",
        "  operacion=random1/random2\n",
        "  print(\"El resultado es \", operacion)\n",
        "  if(dividir==operacion):\n",
        "    print (\"Haz acertado!\")\n",
        "  else:\n",
        "    print(\"No acertaste :C\")"
      ],
      "metadata": {
        "colab": {
          "base_uri": "https://localhost:8080/"
        },
        "id": "I5ZGkZYsPcvF",
        "outputId": "81578220-e5cd-42cb-81db-3a8237491e02"
      },
      "execution_count": 13,
      "outputs": [
        {
          "output_type": "stream",
          "name": "stdout",
          "text": [
            "Ingresa la operacion que deseas probar. Ejemplo: sumar, restar, multiplicar, dividirsumar\n",
            "Deberas sumar el numero  80  +  74\n",
            "2\n",
            "El resultado es  154\n",
            "No acertaste :C\n"
          ]
        }
      ]
    },
    {
      "cell_type": "markdown",
      "source": [],
      "metadata": {
        "id": "PQO2YKspSJ8h"
      }
    },
    {
      "cell_type": "markdown",
      "source": [
        "##Ejercicio 15"
      ],
      "metadata": {
        "id": "ZIJrjb6OVa2C"
      }
    },
    {
      "cell_type": "code",
      "source": [
        "#Ejercicio 15\n",
        "texto = int(input(\"Dame un numero\")) \n",
        "Resul= abs(texto) if texto<0 else (f\"Su valor absoluto es {texto}\")\n",
        "print(Resul)"
      ],
      "metadata": {
        "colab": {
          "base_uri": "https://localhost:8080/"
        },
        "id": "x5DLx4t7VdRC",
        "outputId": "400a96a4-3e96-4cb4-fc70-d872436daedc"
      },
      "execution_count": 32,
      "outputs": [
        {
          "output_type": "stream",
          "name": "stdout",
          "text": [
            "Dame un numero10\n",
            "Su valor absoluto es 10\n"
          ]
        }
      ]
    },
    {
      "cell_type": "markdown",
      "source": [
        "##Ejercicio 16"
      ],
      "metadata": {
        "id": "xBTzPk87SLLp"
      }
    },
    {
      "cell_type": "code",
      "source": [
        "print(\"Ingresa 2 usuarios\") \n",
        "user1=input(\" usuario 1\") \n",
        "user2=input(\" usuario 2\")\n",
        "print(\"Coincidencia\") if user1[0:1]==user2[0:1] else print(\"No hay coincidencia\")"
      ],
      "metadata": {
        "colab": {
          "base_uri": "https://localhost:8080/"
        },
        "id": "PdMJ6cD2SNVJ",
        "outputId": "d55db83d-2162-4acd-e377-d3eae8d35186"
      },
      "execution_count": 18,
      "outputs": [
        {
          "output_type": "stream",
          "name": "stdout",
          "text": [
            "Ingresa 2 usuarios\n",
            " usuario 1jack\n",
            " usuario 2katy\n",
            "No hay coincidencia\n"
          ]
        }
      ]
    },
    {
      "cell_type": "markdown",
      "source": [
        "##Ejercicio 18"
      ],
      "metadata": {
        "id": "eVZotPeRV_yB"
      }
    },
    {
      "cell_type": "code",
      "source": [
        "numero=int(input(\"Ingrese un número: \"))\n",
        "dato=\"Solo se calculan las 3 últimas cifras\" if numero>=1000 else \"La respuesta es:\"\n",
        "print(dato)\n",
        "cent=(numero%1000-numero%100)//100\n",
        "dec=(numero%100-numero%10)//10\n",
        "unid=numero%10\n",
        "print(\"Tiene\", cent,\"centenas,\", \"tiene\", dec, \"decenas\", \"y tiene\", unid, \"unidades\")"
      ],
      "metadata": {
        "colab": {
          "base_uri": "https://localhost:8080/"
        },
        "id": "BtST45c0WBfZ",
        "outputId": "c2c78172-028f-418d-bac4-08df332e41b5"
      },
      "execution_count": 35,
      "outputs": [
        {
          "output_type": "stream",
          "name": "stdout",
          "text": [
            "Ingrese un número: 15\n",
            "La respuesta es:\n",
            "Tiene 0 centenas, tiene 1 decenas y tiene 5 unidades\n"
          ]
        }
      ]
    },
    {
      "cell_type": "markdown",
      "source": [
        "##Ejercicio 19"
      ],
      "metadata": {
        "id": "cLZESXtdSo-x"
      }
    },
    {
      "cell_type": "code",
      "source": [
        "print(\"Este programa verifica si una palabra es palíndromo o no\")\n",
        "pa=str(input(\"Ingrese una palabra: \"))\n",
        "pa=pa.upper()\n",
        "print(\"Es un palíndromo\") if (pa) == (pa)[::-1] else print(\"No es un palíndromo\")"
      ],
      "metadata": {
        "colab": {
          "base_uri": "https://localhost:8080/"
        },
        "id": "YGXP7gXXSqqR",
        "outputId": "ddb3b54c-1008-41b7-e3a9-ecc6f39107b1"
      },
      "execution_count": 19,
      "outputs": [
        {
          "output_type": "stream",
          "name": "stdout",
          "text": [
            "Este prgrama verificará si una palabra es palíndromo o no\n",
            "Ingrese una palabra: hola\n",
            "No es un palíndromo\n"
          ]
        }
      ]
    },
    {
      "cell_type": "markdown",
      "source": [
        "##Ejercicio 20"
      ],
      "metadata": {
        "id": "EJ3S8A7LTJow"
      }
    },
    {
      "cell_type": "code",
      "source": [
        "print(\"Este programa verifica si un número es palíndromo o no\")\n",
        "pa=int(input(\"Ingrese el número: \"))\n",
        "print(\"Es un palíndromo\") if  str(pa) == str(pa)[::-1] else print(\"No es un palíndromo\")"
      ],
      "metadata": {
        "colab": {
          "base_uri": "https://localhost:8080/"
        },
        "id": "iNnAkORNTMa_",
        "outputId": "7975d849-0b18-4fa2-8c78-e69d880dec05"
      },
      "execution_count": 22,
      "outputs": [
        {
          "output_type": "stream",
          "name": "stdout",
          "text": [
            "Este programa verifica si un número es palíndromo o no\n",
            "Ingrese el número: 365\n",
            "No es un palíndromo\n"
          ]
        }
      ]
    }
  ]
}