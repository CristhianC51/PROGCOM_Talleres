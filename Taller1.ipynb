{
  "nbformat": 4,
  "nbformat_minor": 0,
  "metadata": {
    "colab": {
      "name": "Taller1.ipynb",
      "provenance": [],
      "collapsed_sections": [
        "C79Ice3aFLVY",
        "gJdt0iWK_dsb",
        "sM88MpAT_h4i",
        "07qTtsER_Xmj",
        "zvNQol2z_qSS"
      ]
    },
    "kernelspec": {
      "name": "python3",
      "display_name": "Python 3"
    },
    "language_info": {
      "name": "python"
    }
  },
  "cells": [
    {
      "cell_type": "markdown",
      "source": [
        "#Ejercicio 2"
      ],
      "metadata": {
        "id": "C79Ice3aFLVY"
      }
    },
    {
      "cell_type": "code",
      "source": [
        "#Ejercicio 2\n",
        "num1 = int(input(\"Digite el primer numero\"))\n",
        "num2 = int(input(\"Digite el segundo numero\"))\n",
        "op = num1%num2\n",
        "if ( op == 0):\n",
        "  print(f\"El numero {num1} si es multiplo de {num2}\")\n",
        "else:\n",
        "  print(f\"El numero {num1} no es multiplo de {num2}\")\n",
        "\n"
      ],
      "metadata": {
        "colab": {
          "base_uri": "https://localhost:8080/"
        },
        "id": "h6x7Yh_AFOa0",
        "outputId": "cc5dfeb6-4e16-402c-fa66-d3becadafb68"
      },
      "execution_count": 61,
      "outputs": [
        {
          "output_type": "stream",
          "name": "stdout",
          "text": [
            "Digite el primer numero4\n",
            "Digite el segundo numero2\n",
            "El numero 4 si es multiplo de 2\n"
          ]
        }
      ]
    },
    {
      "cell_type": "markdown",
      "source": [
        "#Ejercicio 6"
      ],
      "metadata": {
        "id": "gJdt0iWK_dsb"
      }
    },
    {
      "cell_type": "code",
      "execution_count": 13,
      "metadata": {
        "colab": {
          "base_uri": "https://localhost:8080/"
        },
        "id": "he1cISSRqeMc",
        "outputId": "86314623-2653-48a7-bb8c-1a83ed72b1b7"
      },
      "outputs": [
        {
          "output_type": "stream",
          "name": "stdout",
          "text": [
            "Estudiante, ingresa tu nota2.1\n",
            "Deberas de presentar habilitacion\n"
          ]
        }
      ],
      "source": [
        "#Ejercicio 6\n",
        "nota = float(input(\"Estudiante, ingresa tu nota\"))\n",
        "if (nota>=4.5):\n",
        "  print (\"Estas eximido del ultimo examen\")\n",
        "else:\n",
        "  if (nota<4.5 and nota>=3.5):\n",
        "    print(\"Deberas presentar el examen\")\n",
        "  else:\n",
        "    if (nota<3.5 and nota>=3):\n",
        "      print(\"Ademas del examen deberas de entregar, deberas de hacer un trabajo adicional\")\n",
        "    else:\n",
        "      if(nota<3 and nota>=2):\n",
        "        print(\"Deberas de presentar habilitacion\")\n",
        "      else:\n",
        "        if(nota<2):\n",
        "          print(\"Perdiste la materia\")"
      ]
    },
    {
      "cell_type": "markdown",
      "source": [
        "#Ejercicio 8"
      ],
      "metadata": {
        "id": "sM88MpAT_h4i"
      }
    },
    {
      "cell_type": "code",
      "source": [
        "#Ejercicio 8\n",
        "numero = int(input(\"Ingresa un numero\"))\n",
        "op = (numero%4)\n",
        "op2 = (numero%100)\n",
        "if (op==0 and op2!=0):\n",
        "  print(\"El numero es bisiesto\")\n",
        "else:\n",
        "  print(\"El numero no es bisiesto\")\n",
        "\n",
        "\n"
      ],
      "metadata": {
        "colab": {
          "base_uri": "https://localhost:8080/"
        },
        "id": "ePIfrCa3x48S",
        "outputId": "4e3b0a99-3618-4b5f-bbe7-470c8a92ff7d"
      },
      "execution_count": 23,
      "outputs": [
        {
          "output_type": "stream",
          "name": "stdout",
          "text": [
            "Ingresa un numero2000\n",
            "El numero no es bisiesto\n"
          ]
        }
      ]
    },
    {
      "cell_type": "markdown",
      "source": [
        "#Ejercicio 12"
      ],
      "metadata": {
        "id": "07qTtsER_Xmj"
      }
    },
    {
      "cell_type": "code",
      "source": [
        "#Ejercicio 12\n",
        "import random\n",
        "opEl = str(input(\"Ingresa la operacion que deseas probar. Ejemplo: sumar, restar, multiplicar, dividir\"))\n",
        "random1 = random.randint(1, 99)\n",
        "random2 = random.randint(1, 99)\n",
        "if (opEl==\"sumar\"):\n",
        "  print(\"Deberas sumar el numero \", random1, \" + \", random2)\n",
        "  suma = int(input())\n",
        "  operacion=random1+random2\n",
        "  print(\"El resultado es \", operacion)\n",
        "  if(suma==operacion):\n",
        "    print (\"Haz acertado!\")\n",
        "  else:\n",
        "    print(\"No acertaste :C\")\n",
        "elif (opEl==\"restar\"):\n",
        "  print(\"Deberas restar el numero \", random1, \" - \", random2)\n",
        "  resta = int(input())\n",
        "  operacion=random1-random2\n",
        "  print(\"El resultado es \", operacion)\n",
        "  if(resta==operacion):\n",
        "    print (\"Haz acertado!\")\n",
        "  else:\n",
        "    print(\"No acertaste :C\")\n",
        "elif (opEl==\"multiplicar\"):\n",
        "  print(\"Deberas restar el numero \", random1, \" * \", random2)\n",
        "  multi = int(input())\n",
        "  operacion=random1*random2\n",
        "  print(\"El resultado es \", operacion)\n",
        "  if(multi==operacion):\n",
        "    print (\"Haz acertado!\")\n",
        "  else:\n",
        "    print(\"No acertaste :C\")\n",
        "elif (opEl==\"dividir\"):\n",
        "  print(\"Deberas restar el numero \", random1, \" / \", random2)\n",
        "  dividir = int(input())\n",
        "  operacion=random1/random2\n",
        "  print(\"El resultado es \", operacion)\n",
        "  if(dividir==operacion):\n",
        "    print (\"Haz acertado!\")\n",
        "  else:\n",
        "    print(\"No acertaste :C\")\n",
        "\n",
        "\n",
        "  \n"
      ],
      "metadata": {
        "colab": {
          "base_uri": "https://localhost:8080/"
        },
        "id": "D9a_h9a-0yvf",
        "outputId": "73422866-f32a-4554-e777-e6041f7518b9"
      },
      "execution_count": 48,
      "outputs": [
        {
          "output_type": "stream",
          "name": "stdout",
          "text": [
            "Ingresa la operacion que deseas probar. Ejemplo: sumar, restar, multiplicar, dividirdividir\n",
            "Deberas restar el numero  61  /  61\n",
            "1\n",
            "El resultado es  1.0\n",
            "Haz acertado!\n"
          ]
        }
      ]
    },
    {
      "cell_type": "markdown",
      "source": [
        "#Ejercicio 13"
      ],
      "metadata": {
        "id": "zvNQol2z_qSS"
      }
    },
    {
      "cell_type": "code",
      "source": [
        "#Ejercicio 13\n",
        "conv = str(input(\"Elige a que quieres convertir esa medida, ejemplo: cm a metros, cm a km, metros a km, km a cm\"))\n",
        "if (conv==\"cm a metros\"):\n",
        "  cm = int(input(\"Haz elegido de cm a metros, digita cuantos cm quieres convertir\"))\n",
        "  op = cm/100\n",
        "  print(cm,\"  en metros son \", op, \" metros\")\n",
        "elif (conv==\"cm a km\"):\n",
        "  cm = int(input(\"Haz elegido de cm a km, digita cuantos cm quieres convertir\"))\n",
        "  op = cm/100000\n",
        "  print(cm,\" en kilometros son \", op, \" kilometros\")\n",
        "elif (conv==\"metros a km\"):\n",
        "  m = int(input(\"Haz elegido de metros a km, digita cuantos m quieres convertir\"))\n",
        "  op = m/1000\n",
        "  print(m,\" en kilometros son \", op, \" kilometros\")\n",
        "elif (conv==\"km a cm\"):\n",
        "  km = int(input(\"Haz elegido de km a cm, digita cuantos km quieres convertir\"))\n",
        "  op = km*100000\n",
        "  print(km,\" en centimetros son \", op, \" centimetros\")\n"
      ],
      "metadata": {
        "colab": {
          "base_uri": "https://localhost:8080/"
        },
        "id": "UtY6oc5O_UGD",
        "outputId": "1a5e18c6-e5b5-4e11-df52-b57a918cd755"
      },
      "execution_count": 53,
      "outputs": [
        {
          "output_type": "stream",
          "name": "stdout",
          "text": [
            "Elige a que quieres convertir esa medida, ejemplo: cm a metros, cm a km, metros a km, km a cmkm a cm\n",
            "Haz elegido de km a cm, digita cuantos km quieres convertir1\n",
            "1  en centimetros son  100000  centimetros\n"
          ]
        }
      ]
    }
  ]
}