{
  "nbformat": 4,
  "nbformat_minor": 0,
  "metadata": {
    "colab": {
      "name": "Taller2_TrabajoEnClase.ipynb",
      "provenance": []
    },
    "kernelspec": {
      "name": "python3",
      "display_name": "Python 3"
    },
    "language_info": {
      "name": "python"
    }
  },
  "cells": [
    {
      "cell_type": "markdown",
      "source": [
        "#Ejercicio6"
      ],
      "metadata": {
        "id": "QoVbRof5WPrm"
      }
    },
    {
      "cell_type": "code",
      "source": [
        "n = int(input(\"Ingrese la tabla que desee calcular\"))\n",
        "print(\"Tabla del \", n)\n",
        "for i in range(1,11):\n",
        "  print(n,\"x\", i, \"=\", n*i)"
      ],
      "metadata": {
        "colab": {
          "base_uri": "https://localhost:8080/"
        },
        "id": "CMh5a1tgWXVu",
        "outputId": "b6a51e1c-3abc-4194-851f-9537dd933fbc"
      },
      "execution_count": 1,
      "outputs": [
        {
          "output_type": "stream",
          "name": "stdout",
          "text": [
            "Ingrese la tabla que desee calcular5\n",
            "Tabla del  5\n",
            "5 x 1 = 5\n",
            "5 x 2 = 10\n",
            "5 x 3 = 15\n",
            "5 x 4 = 20\n",
            "5 x 5 = 25\n",
            "5 x 6 = 30\n",
            "5 x 7 = 35\n",
            "5 x 8 = 40\n",
            "5 x 9 = 45\n",
            "5 x 10 = 50\n"
          ]
        }
      ]
    }
  ]
}